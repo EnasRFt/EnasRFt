{
  "nbformat": 4,
  "nbformat_minor": 0,
  "metadata": {
    "colab": {
      "name": "Files.hendling.ipynb",
      "provenance": []
    },
    "kernelspec": {
      "name": "python3",
      "display_name": "Python 3"
    },
    "language_info": {
      "name": "python"
    }
  },
  "cells": [
    {
      "cell_type": "code",
      "execution_count": 12,
      "metadata": {
        "id": "LPgakFzQrQND",
        "colab": {
          "base_uri": "https://localhost:8080/"
        },
        "outputId": "7471cc1b-95ad-430b-8628-7bce658b5f40"
      },
      "outputs": [
        {
          "output_type": "execute_result",
          "data": {
            "text/plain": [
              "['What is Python language?                                                \\n',\n",
              " 'Python is a widely used high-level, general-purpose, interpreted, dynamic programming language.Its design philosophy emphasizes code readability, and its syntax allows programmers to express concepts in fewer lines of code than possible in \\n',\n",
              " 'languages such as C++ or Java. \\n',\n",
              " 'Python supports multiple programming paradigms, including object-oriented, imperative and functional programming or procedural styles. It features a dynamic type system and automatic memory management and has a large and comprehensive standard library.The best way we learn anything is by practice and exercise questions. We  have started this section for those (beginner to intermediate) who are familiar with Python.']"
            ]
          },
          "metadata": {},
          "execution_count": 12
        }
      ],
      "source": [
        "#question 1\n",
        "f = open(\"/content/python.txt\")\n",
        "f.readlines()\n"
      ]
    },
    {
      "cell_type": "code",
      "source": [
        "#question 2\n",
        "def file_read(f, w):\n",
        "        from itertools import islice\n",
        "        with open(f) as f:\n",
        "                for i in islice(f, w):\n",
        "                        print(i)\n",
        "file_read('/content/python.txt',2)"
      ],
      "metadata": {
        "colab": {
          "base_uri": "https://localhost:8080/"
        },
        "id": "FaNI339Lt7wt",
        "outputId": "5e8ac158-0df7-44a6-988a-07db64382d44"
      },
      "execution_count": 15,
      "outputs": [
        {
          "output_type": "stream",
          "name": "stdout",
          "text": [
            "What is Python language?                                                \n",
            "\n",
            "Python is a widely used high-level, general-purpose, interpreted, dynamic programming language.Its design philosophy emphasizes code readability, and its syntax allows programmers to express concepts in fewer lines of code than possible in \n",
            "\n"
          ]
        }
      ]
    },
    {
      "cell_type": "code",
      "source": [
        "#question 3\n",
        "def  last (fname,n):\n",
        "\twith open('/content/python.txt') as f:\n",
        "\t\tfor i in (f.readlines() [-n:]):\n",
        "\t\t\tprint(i)\n",
        "\n",
        "last('/content/python.txtt',2)"
      ],
      "metadata": {
        "colab": {
          "base_uri": "https://localhost:8080/"
        },
        "id": "zpEuoBWOzMu-",
        "outputId": "7bd3aaaf-a12e-407c-b2ce-6bb44df7dece"
      },
      "execution_count": null,
      "outputs": [
        {
          "output_type": "stream",
          "name": "stdout",
          "text": [
            "languages such as C++ or Java. \n",
            "\n",
            "Python supports multiple programming paradigms, including object-oriented, imperative and functional programming or procedural styles. It features a dynamic type system and automatic memory management and has a large and comprehensive standard library.The best way we learn anything is by practice and exercise questions. We  have started this section for those (beginner to intermediate) who are familiar with Python.\n"
          ]
        }
      ]
    },
    {
      "cell_type": "code",
      "source": [
        "#question 4\n",
        "f = open(\"/content/python.txt\")\n",
        "data= f.read()\n",
        "print(len(data.split(\" \")))"
      ],
      "metadata": {
        "colab": {
          "base_uri": "https://localhost:8080/"
        },
        "id": "sjzjrM_BIcq1",
        "outputId": "97bdbebc-0384-4db8-a8b3-03f2ab9a3d2e"
      },
      "execution_count": 7,
      "outputs": [
        {
          "output_type": "stream",
          "name": "stdout",
          "text": [
            "148\n"
          ]
        }
      ]
    },
    {
      "cell_type": "code",
      "source": [
        "#question 5\n",
        "def read(f,n):\n",
        "  with open('/content/python.txt')as f:\n",
        "    for i in (f.readlines() [-n:]):\n",
        "      print(i)\n",
        "\n",
        "read('/content/python.txtt',2)"
      ],
      "metadata": {
        "colab": {
          "base_uri": "https://localhost:8080/"
        },
        "id": "7ZyazQt1nE39",
        "outputId": "1e130b49-ec59-4535-b846-6428860d99cb"
      },
      "execution_count": 13,
      "outputs": [
        {
          "output_type": "stream",
          "name": "stdout",
          "text": [
            "languages such as C++ or Java. \n",
            "\n",
            "Python supports multiple programming paradigms, including object-oriented, imperative and functional programming or procedural styles. It features a dynamic type system and automatic memory management and has a large and comprehensive standard library.The best way we learn anything is by practice and exercise questions. We  have started this section for those (beginner to intermediate) who are familiar with Python.\n"
          ]
        }
      ]
    },
    {
      "cell_type": "code",
      "source": [
        ""
      ],
      "metadata": {
        "id": "I-jFSI49zpJi"
      },
      "execution_count": null,
      "outputs": []
    }
  ]
}