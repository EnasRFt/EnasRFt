{
  "nbformat": 4,
  "nbformat_minor": 0,
  "metadata": {
    "colab": {
      "name": "3chekpoints.ipynb",
      "provenance": []
    },
    "kernelspec": {
      "name": "python3",
      "display_name": "Python 3"
    },
    "language_info": {
      "name": "python"
    }
  },
  "cells": [
    {
      "cell_type": "code",
      "source": [
        "#Question 1\n",
        "def maxmum ( n, m ):\n",
        "    if n > m:\n",
        "        return n\n",
        "    return m\n",
        "def maxmum3 ( n, m, z ):\n",
        "    return maxmum ( n, maxmum ( m, z ) )\n",
        "print(maxmum3(20, 35, 19))"
      ],
      "metadata": {
        "colab": {
          "base_uri": "https://localhost:8080/"
        },
        "id": "yClQiVW9ZOg2",
        "outputId": "0fec4a95-e6da-4b7f-f41e-c2bb78a5a63d"
      },
      "execution_count": 32,
      "outputs": [
        {
          "output_type": "stream",
          "name": "stdout",
          "text": [
            "35\n"
          ]
        }
      ]
    },
    {
      "cell_type": "code",
      "source": [
        "#Question 2\n",
        "def enas(a,b):\n",
        "  x=a+b\n",
        "  z=a-b\n",
        "  return x,z\n",
        "a=40\n",
        "b=10\n",
        "print(enas(a,b))"
      ],
      "metadata": {
        "colab": {
          "base_uri": "https://localhost:8080/"
        },
        "id": "pAUgroxMKSbk",
        "outputId": "8192a929-f576-4e55-950b-82563898e2bd"
      },
      "execution_count": 18,
      "outputs": [
        {
          "output_type": "stream",
          "name": "stdout",
          "text": [
            "(50, 30)\n"
          ]
        }
      ]
    },
    {
      "cell_type": "code",
      "execution_count": 31,
      "metadata": {
        "colab": {
          "base_uri": "https://localhost:8080/"
        },
        "id": "d-35JaMSAV99",
        "outputId": "88cb4a5b-3619-45e6-b6e1-2fdd0f819afc"
      },
      "outputs": [
        {
          "output_type": "stream",
          "name": "stdout",
          "text": [
            "184\n",
            "424710000\n"
          ]
        }
      ],
      "source": [
        "#Question 3\n",
        "def ahmad (enas):\n",
        "  z = 1 \n",
        "  for m in x:\n",
        "    z = z * m\n",
        "  return z\n",
        "def gmc(ghjgh):\n",
        "  y = 0\n",
        "  for i in x :\n",
        "    y = y + i\n",
        "  return y\n",
        "x=[12,25,55,20,33,39]\n",
        "c=[]\n",
        "d=[]\n",
        "for i in range(len(x)):\n",
        "  if i % 2 == 0:\n",
        "    c.append(x[i])\n",
        "else:\n",
        "  d.append(x[i])\n",
        "print(gmc(c))\n",
        "print(ahmad(d))\n"
      ]
    },
    {
      "cell_type": "code",
      "source": [
        "#Question 4\n",
        "colors = \"green-red-yellow-black-white\"\n",
        "def enas (bbb):\n",
        "    x = bbb.split(\"-\")\n",
        "    x.sort()\n",
        "    return x\n",
        "y = enas(colors)\n",
        "f = 0\n",
        "for i in y:\n",
        "  f = f + 1\n",
        "  if f >= len(y):\n",
        "    print(i)\n",
        "    break\n",
        "  print(i , end = \"-\")"
      ],
      "metadata": {
        "colab": {
          "base_uri": "https://localhost:8080/"
        },
        "id": "t51GMhKDY8w1",
        "outputId": "96c619a5-7bbf-4f76-8c10-e8ccc369193f"
      },
      "execution_count": 33,
      "outputs": [
        {
          "output_type": "stream",
          "name": "stdout",
          "text": [
            "black-green-red-white-yellow\n"
          ]
        }
      ]
    },
    {
      "cell_type": "code",
      "source": [
        ""
      ],
      "metadata": {
        "id": "Zou0hXf5G0xl"
      },
      "execution_count": null,
      "outputs": []
    }
  ]
}