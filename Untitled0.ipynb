{
  "nbformat": 4,
  "nbformat_minor": 0,
  "metadata": {
    "colab": {
      "name": "Untitled0.ipynb",
      "provenance": []
    },
    "kernelspec": {
      "name": "python3",
      "display_name": "Python 3"
    },
    "language_info": {
      "name": "python"
    }
  },
  "cells": [
    {
      "cell_type": "code",
      "execution_count": 2,
      "metadata": {
        "colab": {
          "base_uri": "https://localhost:8080/"
        },
        "id": "xr8pcFaCkUwu",
        "outputId": "d77df255-7455-46e2-8f30-adc61e0a7fc4"
      },
      "outputs": [
        {
          "output_type": "stream",
          "name": "stdout",
          "text": [
            "WELCOME TO PYTHON WOLED LOST'S START GODING\n"
          ]
        }
      ],
      "source": [
        "print(\"WELCOME TO PYTHON WOLED LOST'S START GODING\")"
      ]
    }
  ]
}