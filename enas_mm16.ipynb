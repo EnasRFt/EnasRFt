{
  "nbformat": 4,
  "nbformat_minor": 0,
  "metadata": {
    "colab": {
      "name": "enas mm16.ipynb",
      "provenance": []
    },
    "kernelspec": {
      "name": "python3",
      "display_name": "Python 3"
    },
    "language_info": {
      "name": "python"
    }
  },
  "cells": [
    {
      "cell_type": "code",
      "execution_count": null,
      "metadata": {
        "colab": {
          "base_uri": "https://localhost:8080/"
        },
        "id": "zaI6gsVtLWcs",
        "outputId": "290096ee-ece4-40b7-901a-517c44f49363"
      },
      "outputs": [
        {
          "output_type": "stream",
          "name": "stdout",
          "text": [
            "(1 , 2 , 3)\n"
          ]
        }
      ],
      "source": [
        "#1\n",
        "#Write a python class named Point3D defined by x, y, and z.\n",
        "# Define a method that returns (x, y ,z).\n",
        "# This tells Python to represent this object in the following format: (x, y, z). \n",
        "#Then create a variable named my_point containing a new instance of Point3D with x=1, y=2, and z=3 and print it.\n",
        "class Point3D:\n",
        "  def __init__ (self, x ,y, z):\n",
        "    self.x = x\n",
        "    self.y =y\n",
        "    self.z= z\n",
        "  def mypoint (self):\n",
        "      return\"({} , {} , {})\".format(self.x , self.y , self.z)\n",
        "my_point = Point3D (1 , 2 , 3)\n",
        "print(my_point.mypoint())\n"
      ]
    },
    {
      "cell_type": "code",
      "source": [
        "class Rectangle:\n",
        "  def __init__(self , l , w ):\n",
        "    self .length = l\n",
        "    self .width = w\n",
        "  def area (self):\n",
        "      return (self.length)*(self.width)\n",
        "  def perimeter(self):\n",
        "      return 2 * (self.width + self.length)\n",
        "Rectangle_1 = Rectangle(3, 4)\n",
        "print(Rectangle_1.area())\n",
        "print(Rectangle_1.perimeter())"
      ],
      "metadata": {
        "colab": {
          "base_uri": "https://localhost:8080/"
        },
        "id": "hBq1-rjE0iyV",
        "outputId": "ae8a6d22-89f5-44c7-888e-43fb1aac17eb"
      },
      "execution_count": 2,
      "outputs": [
        {
          "output_type": "stream",
          "name": "stdout",
          "text": [
            "12\n",
            "14\n"
          ]
        }
      ]
    },
    {
      "cell_type": "code",
      "source": [
        "#3\n",
        "#Write a Python  class named Circle constructed by its center O and radius r. \n",
        "#Define two methods area and perimeter which will compute the area and the perimeter of the circle, \n",
        "#and isInside() method of the class which allows to test whether a point A(x, y) belongs to the circle C(O, r) or not.\n",
        "class Circle:\n",
        "  def __init__(self , o , r):\n",
        "    self . o = o\n",
        "    self . r = r\n",
        "  def area (self):\n",
        "    return((22/7)*(self.r)**2)\n",
        "  def perimeter(self):\n",
        "     return((22/7)*(self.r))\n",
        "\n",
        "  def isInside(self,x,y):\n",
        "    if((x-self.o[0])**2 + (y-self.o[1]**2)) <= self.r**2:\n",
        "       return (\"the point belongto the circle\")\n",
        "    else:\n",
        "      return (\"the point dosnot belongto the circle\")\n",
        "    \n",
        "x = Circle((0,1),3)\n",
        "print(x.area())\n",
        "print(x.perimeter())\n",
        "print(x.isInside(2,3))\n",
        "  \n",
        "\n",
        "\n",
        "\n",
        "\n"
      ],
      "metadata": {
        "colab": {
          "base_uri": "https://localhost:8080/"
        },
        "id": "wd3nbsQ9MvDy",
        "outputId": "406d7e2d-dcba-4b1a-eeb9-7e9a3c046f8a"
      },
      "execution_count": null,
      "outputs": [
        {
          "output_type": "stream",
          "name": "stdout",
          "text": [
            "28.285714285714285\n",
            "9.428571428571429\n",
            "the point belongto the circle\n"
          ]
        }
      ]
    },
    {
      "cell_type": "code",
      "source": [
        ""
      ],
      "metadata": {
        "id": "rV_egVngMZRK"
      },
      "execution_count": null,
      "outputs": []
    },
    {
      "cell_type": "code",
      "source": [
        "class bank:\n",
        "  def __init__(self,x):\n",
        "    self.balance = x\n",
        "  def deposite(self,y):\n",
        "    self.balance += x\n",
        "    return self.balance\n",
        "  def withdraw(self,z):\n",
        "    self.balance -= z\n",
        "    return self.balance\n",
        "enas = bank(10000)\n",
        "print(enas.balance)\n",
        "x = int(input(\"please enter the amout you want to deposite:\"))\n",
        "print(\"balance after deposite is : \", enas.deposite(x))\n",
        "y = int(input(\"please enter the amout you want to deposite:\"))\n",
        "if y >= enas.balance:\n",
        "  print(\"insuffienct amount \")\n",
        "else :\n",
        "  print(\"balance after withdraw is : \", enas.withdraw(y))"
      ],
      "metadata": {
        "colab": {
          "base_uri": "https://localhost:8080/"
        },
        "id": "JUdCihda0S7n",
        "outputId": "f909fb41-9792-4ce7-99bc-b6a9076c6927"
      },
      "execution_count": 3,
      "outputs": [
        {
          "output_type": "stream",
          "name": "stdout",
          "text": [
            "10000\n",
            "please enter the amout you want to deposite:1000\n",
            "balance after deposite is :  11000\n",
            "please enter the amout you want to deposite:5000\n",
            "balance after withdraw is :  6000\n"
          ]
        }
      ]
    }
  ]
}