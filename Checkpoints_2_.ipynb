{
  "nbformat": 4,
  "nbformat_minor": 0,
  "metadata": {
    "colab": {
      "name": "Checkpoints 2 .ipynb",
      "provenance": []
    },
    "kernelspec": {
      "name": "python3",
      "display_name": "Python 3"
    },
    "language_info": {
      "name": "python"
    }
  },
  "cells": [
    {
      "cell_type": "code",
      "execution_count": null,
      "metadata": {
        "colab": {
          "base_uri": "https://localhost:8080/"
        },
        "id": "dIuS_Ce45g8p",
        "outputId": "5d4d85ab-8b08-44a5-c842-c522cb456e6e"
      },
      "outputs": [
        {
          "output_type": "execute_result",
          "data": {
            "text/plain": [
              "36"
            ]
          },
          "metadata": {},
          "execution_count": 1
        }
      ],
      "source": [
        "#Question 1 :\n",
        "\n",
        "list=[2,3,6]\n",
        "def x():\n",
        "  y=1\n",
        "  for i in list:\n",
        "    y=y*i\n",
        "  return y\n",
        "\n",
        "x()"
      ]
    },
    {
      "cell_type": "code",
      "source": [
        " #Question 2 :\n",
        "\n",
        "list = [(2, 5), (1, 2), (4, 4), (2, 3), (2, 1)]\n",
        "list1 =[] #اختار كل رقم1ز\n",
        "list2 =[] #الارقام بالترتيب\n",
        "for i in list:\n",
        "  list1.append(i[1],)\n",
        "list1.sort()\n",
        "print(list1)\n",
        "for i in list1:\n",
        "  for m in list:\n",
        "    if i == int(m[1],):\n",
        "      list2.append(m)\n",
        "print(list2)\n",
        "\n",
        "\n"
      ],
      "metadata": {
        "colab": {
          "base_uri": "https://localhost:8080/"
        },
        "id": "InOdqbjX810-",
        "outputId": "9e9d187a-d7e2-4485-b4bb-49fc83104ce4"
      },
      "execution_count": null,
      "outputs": [
        {
          "output_type": "stream",
          "name": "stdout",
          "text": [
            "[1, 2, 3, 4, 5]\n",
            "[(2, 1), (1, 2), (2, 3), (4, 4), (2, 5)]\n"
          ]
        }
      ]
    },
    {
      "cell_type": "code",
      "source": [
        "d1 = {'a': 100, 'b': 200, 'c':300}\n",
        "d2 = {'a': 300, 'b': 200, 'd':400}\n",
        "d3=dict(d1)\n",
        "d3.update(d2)\n",
        "\n",
        "for i,j in d1.items():#بعرف الدكشنري الاول\n",
        "  for k,n in d2.items():\n",
        "    if k==i:\n",
        "      d3[i]=(j+n)\n",
        "\n",
        "print(d3)"
      ],
      "metadata": {
        "colab": {
          "base_uri": "https://localhost:8080/"
        },
        "id": "ZXb8UXoMFDIW",
        "outputId": "1091aca6-e148-465a-920d-627bf993c9e5"
      },
      "execution_count": 3,
      "outputs": [
        {
          "output_type": "stream",
          "name": "stdout",
          "text": [
            "{'a': 400, 'b': 400, 'c': 300, 'd': 400}\n"
          ]
        }
      ]
    },
    {
      "cell_type": "code",
      "source": [
        "#Question 4 :\n",
        "m = int (input())\n",
        "\n",
        "a={m :m**2 for m in range(1,m+1)}\n",
        "print(a)"
      ],
      "metadata": {
        "id": "o-YCRBqjLrEy",
        "colab": {
          "base_uri": "https://localhost:8080/"
        },
        "outputId": "7da80063-363a-4e41-b5ae-356f3c1249fb"
      },
      "execution_count": 1,
      "outputs": [
        {
          "output_type": "stream",
          "name": "stdout",
          "text": [
            "8\n",
            "{1: 1, 2: 4, 3: 9, 4: 16, 5: 25, 6: 36, 7: 49, 8: 64}\n"
          ]
        }
      ]
    },
    {
      "cell_type": "code",
      "source": [
        "#Question 5: \n",
        "y = [('item1', '12.20'), ('item2', '15.10'), ('item3', '24.5')]\n",
        "def end (x):\n",
        "  return x[-1]\n",
        "def sort (x):\n",
        "  return sorted(y, key=end , reverse=True )\n",
        "print(sort(a))"
      ],
      "metadata": {
        "colab": {
          "base_uri": "https://localhost:8080/"
        },
        "id": "A-1AVU1NEzCI",
        "outputId": "c8e23fb3-d779-4f1e-b823-09b9e1cdf015"
      },
      "execution_count": 2,
      "outputs": [
        {
          "output_type": "stream",
          "name": "stdout",
          "text": [
            "[('item3', '24.5'), ('item2', '15.10'), ('item1', '12.20')]\n"
          ]
        }
      ]
    }
  ]
}