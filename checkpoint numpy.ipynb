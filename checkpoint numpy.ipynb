{
  "nbformat": 4,
  "nbformat_minor": 0,
  "metadata": {
    "colab": {
      "name": "Untitled16.ipynb",
      "provenance": []
    },
    "kernelspec": {
      "name": "python3",
      "display_name": "Python 3"
    },
    "language_info": {
      "name": "python"
    }
  },
  "cells": [
    {
      "cell_type": "code",
      "execution_count": null,
      "metadata": {
        "colab": {
          "base_uri": "https://localhost:8080/"
        },
        "id": "E-VDWOBDJIl_",
        "outputId": "44b70a91-7a91-4545-b2d6-024f08aacd68"
      },
      "outputs": [
        {
          "output_type": "stream",
          "name": "stdout",
          "text": [
            "[[1, 2, 3], [3, 4, 3]]\n"
          ]
        }
      ],
      "source": [
        "#Question 1\n",
        "import numpy as np\n",
        "a=np.array([(1,2,3),(3,4,3)])\n",
        "a=a.tolist()\n",
        "print(a)"
      ]
    },
    {
      "cell_type": "code",
      "source": [
        "#Question 2 \n",
        "import numpy as np\n",
        "country_elements=np.array([(1,2,3),(3,4,3),(2,3,4)])\n",
        "Easily= np.trace(country_elements)\n",
        "print(country_elements)\n",
        "print(Easily)"
      ],
      "metadata": {
        "colab": {
          "base_uri": "https://localhost:8080/"
        },
        "id": "HZCvM_X6M1cj",
        "outputId": "f9b1ba6c-4837-4aec-b5a8-87e9df7f0e69"
      },
      "execution_count": null,
      "outputs": [
        {
          "output_type": "stream",
          "name": "stdout",
          "text": [
            "[[1 2 3]\n",
            " [3 4 3]\n",
            " [2 3 4]]\n",
            "9\n"
          ]
        }
      ]
    },
    {
      "cell_type": "code",
      "source": [
        "#Question 3\n",
        "import numpy as np\n",
        "s=np.array([(1,2,3),(3,4,3),(2,3,4)])\n",
        "print(\"Numbers greater than 3 \",s[s>3])"
      ],
      "metadata": {
        "id": "Ya1YW6aRP9Tx",
        "colab": {
          "base_uri": "https://localhost:8080/"
        },
        "outputId": "e2f8393c-251b-4a00-9000-79c29b01dd18"
      },
      "execution_count": null,
      "outputs": [
        {
          "output_type": "stream",
          "name": "stdout",
          "text": [
            "Numbers greater than 3  [4 4]\n"
          ]
        }
      ]
    },
    {
      "cell_type": "code",
      "source": [
        "#Question 4\n",
        "import numpy as np\n",
        "s=np.array([(1,2,3),(3,4,3),(2,3,4)])\n",
        "print(s)"
      ],
      "metadata": {
        "colab": {
          "base_uri": "https://localhost:8080/"
        },
        "id": "fWya0ikR4kH4",
        "outputId": "ebc5e389-e8a9-43dc-8e7b-78dacb93296d"
      },
      "execution_count": null,
      "outputs": [
        {
          "output_type": "stream",
          "name": "stdout",
          "text": [
            "[[1 2 3]\n",
            " [3 4 3]\n",
            " [2 3 4]]\n"
          ]
        }
      ]
    },
    {
      "cell_type": "code",
      "source": [
        "#Question 5\n",
        "import numpy as np\n",
        "s=np.array([(1,2,3),(3,4,3),(5,8,9)])\n",
        "y=s-s.mean( axis= 1 , keepdims = True)\n",
        "print(y)"
      ],
      "metadata": {
        "colab": {
          "base_uri": "https://localhost:8080/"
        },
        "id": "BXLylhQl42WS",
        "outputId": "ccb32562-9800-4561-876f-1614c091a9aa"
      },
      "execution_count": null,
      "outputs": [
        {
          "output_type": "stream",
          "name": "stdout",
          "text": [
            "[[-1.          0.          1.        ]\n",
            " [-0.33333333  0.66666667 -0.33333333]\n",
            " [-2.33333333  0.66666667  1.66666667]]\n"
          ]
        }
      ]
    }
  ]
}