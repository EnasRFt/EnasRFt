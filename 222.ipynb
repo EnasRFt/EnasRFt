{
  "nbformat": 4,
  "nbformat_minor": 0,
  "metadata": {
    "colab": {
      "name": "222.ipynb",
      "provenance": []
    },
    "kernelspec": {
      "name": "python3",
      "display_name": "Python 3"
    },
    "language_info": {
      "name": "python"
    }
  },
  "cells": [
    {
      "cell_type": "code",
      "execution_count": 5,
      "metadata": {
        "colab": {
          "base_uri": "https://localhost:8080/"
        },
        "id": "kBqPhUJvfyI2",
        "outputId": "be6f3d5d-7847-42a8-d494-30501d1ae98c"
      },
      "outputs": [
        {
          "output_type": "stream",
          "name": "stdout",
          "text": [
            "Please enter the number of seconds : 5\n",
            "00:05\n",
            "00:04\n",
            "00:03\n",
            "00:02\n",
            "00:01\n",
            "Fire in the hole!!\n"
          ]
        }
      ],
      "source": [
        "import time\n",
        "\n",
        "seconds = int(input(\"Please enter the number of seconds : \"))\n",
        "\n",
        "def countdown(t):\n",
        "    while t:\n",
        "        mins = t // 60\n",
        "        secs = t % 60\n",
        "        timeformat = '{:02d}:{:02d}'.format(mins, secs)\n",
        "        print(timeformat)\n",
        "        time.sleep(1)\n",
        "        t -= 1\n",
        "    print(\"Fire in the hole!!\")\n",
        "\n",
        "countdown(seconds)"
      ]
    }
  ]
}