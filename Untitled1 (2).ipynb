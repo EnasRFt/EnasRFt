{
  "nbformat": 4,
  "nbformat_minor": 0,
  "metadata": {
    "colab": {
      "name": "Untitled1.ipynb",
      "provenance": []
    },
    "kernelspec": {
      "name": "python3",
      "display_name": "Python 3"
    },
    "language_info": {
      "name": "python"
    }
  },
  "cells": [
    {
      "cell_type": "code",
      "execution_count": null,
      "metadata": {
        "colab": {
          "base_uri": "https://localhost:8080/"
        },
        "id": "z7usm9I_RDuA",
        "outputId": "7702797a-dc0c-4c98-a66b-2bfff074b948"
      },
      "outputs": [
        {
          "output_type": "stream",
          "name": "stdout",
          "text": [
            "raffatenas\n"
          ]
        }
      ],
      "source": [
        "firstname=\"enas\"                         #Question 1\n",
        "lastname=\"raffat\"\n",
        "print(lastname + firstname)"
      ]
    },
    {
      "cell_type": "code",
      "source": [
        "m =int(input(\"enter your number\"))     ##Question 3\n",
        "if m % 2 == 0:\n",
        "  print(\"the number even\")\n",
        "else:\n",
        "    print(\"the number odd\")"
      ],
      "metadata": {
        "colab": {
          "base_uri": "https://localhost:8080/"
        },
        "id": "jCks9xLoYueL",
        "outputId": "12669314-206e-4019-fa48-aba0f8bc5f85"
      },
      "execution_count": null,
      "outputs": [
        {
          "output_type": "stream",
          "name": "stdout",
          "text": [
            "enter your number75\n",
            "the number odd\n"
          ]
        }
      ]
    },
    {
      "cell_type": "code",
      "source": [
        "for x in range(2000,3200):         #Question 4\n",
        "  if (x % 7) == 0 and (x % 5) != 0:\n",
        "    print(x , end=\" , \")"
      ],
      "metadata": {
        "id": "cbFBYFnixQ18",
        "colab": {
          "base_uri": "https://localhost:8080/"
        },
        "outputId": "0175cc0a-12ea-4abd-c97a-859631b056d1"
      },
      "execution_count": null,
      "outputs": [
        {
          "output_type": "stream",
          "name": "stdout",
          "text": [
            "2002 , 2009 , 2016 , 2023 , 2037 , 2044 , 2051 , 2058 , 2072 , 2079 , 2086 , 2093 , 2107 , 2114 , 2121 , 2128 , 2142 , 2149 , 2156 , 2163 , 2177 , 2184 , 2191 , 2198 , 2212 , 2219 , 2226 , 2233 , 2247 , 2254 , 2261 , 2268 , 2282 , 2289 , 2296 , 2303 , 2317 , 2324 , 2331 , 2338 , 2352 , 2359 , 2366 , 2373 , 2387 , 2394 , 2401 , 2408 , 2422 , 2429 , 2436 , 2443 , 2457 , 2464 , 2471 , 2478 , 2492 , 2499 , 2506 , 2513 , 2527 , 2534 , 2541 , 2548 , 2562 , 2569 , 2576 , 2583 , 2597 , 2604 , 2611 , 2618 , 2632 , 2639 , 2646 , 2653 , 2667 , 2674 , 2681 , 2688 , 2702 , 2709 , 2716 , 2723 , 2737 , 2744 , 2751 , 2758 , 2772 , 2779 , 2786 , 2793 , 2807 , 2814 , 2821 , 2828 , 2842 , 2849 , 2856 , 2863 , 2877 , 2884 , 2891 , 2898 , 2912 , 2919 , 2926 , 2933 , 2947 , 2954 , 2961 , 2968 , 2982 , 2989 , 2996 , 3003 , 3017 , 3024 , 3031 , 3038 , 3052 , 3059 , 3066 , 3073 , 3087 , 3094 , 3101 , 3108 , 3122 , 3129 , 3136 , 3143 , 3157 , 3164 , 3171 , 3178 , 3192 , 3199 , "
          ]
        }
      ]
    },
    {
      "cell_type": "code",
      "source": [
        "x =int(input(\"enter your number\"))   #Question 5\n",
        "y=1\n",
        "m=1\n",
        "while  x > y:\n",
        "  m = m * x\n",
        "  x = x - 1\n",
        "  print(m)"
      ],
      "metadata": {
        "id": "BzxOQOO48XhR",
        "colab": {
          "base_uri": "https://localhost:8080/"
        },
        "outputId": "292723c1-cce2-4993-e043-bbbc0eca2eaf"
      },
      "execution_count": null,
      "outputs": [
        {
          "output_type": "stream",
          "name": "stdout",
          "text": [
            "enter your number10\n",
            "10\n",
            "90\n",
            "720\n",
            "5040\n",
            "30240\n",
            "151200\n",
            "604800\n",
            "1814400\n",
            "3628800\n"
          ]
        }
      ]
    },
    {
      "cell_type": "code",
      "source": [
        "x =('hello team')  #len         #Question 6\n",
        "print (len(x))\n",
        "for x in range(len(x)):\n",
        "  print(x)\n",
        "if\n",
        "\n"
      ],
      "metadata": {
        "colab": {
          "base_uri": "https://localhost:8080/"
        },
        "id": "B3lXFMfPK3eR",
        "outputId": "dfbb0416-5bd1-4224-8b19-064a8755e3b8"
      },
      "execution_count": 7,
      "outputs": [
        {
          "output_type": "stream",
          "name": "stdout",
          "text": [
            "10\n",
            "0\n",
            "1\n",
            "2\n",
            "3\n",
            "4\n",
            "5\n",
            "6\n",
            "7\n",
            "8\n",
            "9\n"
          ]
        }
      ]
    },
    {
      "cell_type": "code",
      "source": [
        "def oddvaluesstring(str):  \n",
        "  x = \"\"   \n",
        "  for i in range(len(str)):  \n",
        "    if M % 2 == 0:  \n",
        "      x = x + str [M]  \n",
        "  return   \n",
        "  \n",
        "print(odd_values_string('hello team')) "
      ],
      "metadata": {
        "colab": {
          "base_uri": "https://localhost:8080/"
        },
        "id": "BdSQuPBz1TZQ",
        "outputId": "7fd3ec06-80d9-423a-ac92-f88179cc7f04"
      },
      "execution_count": 20,
      "outputs": [
        {
          "output_type": "stream",
          "name": "stdout",
          "text": [
            "hlota\n"
          ]
        }
      ]
    },
    {
      "cell_type": "code",
      "source": [
        "x=int(input(\"enter your number: \"))      #Question 2\n",
        "i=str(x)\n",
        "z= i+i\n",
        "print(z)\n",
        "z = i+i+i\n",
        "print(z)\n",
        "result = x+ int(i) + int(z)\n",
        "print (\"the resultis\", result)"
      ],
      "metadata": {
        "colab": {
          "base_uri": "https://localhost:8080/"
        },
        "id": "eLxTBGlHWWou",
        "outputId": "eb6d864f-7e8c-4803-f4fb-f9c6b2b6a13f"
      },
      "execution_count": null,
      "outputs": [
        {
          "output_type": "stream",
          "name": "stdout",
          "text": [
            "enter your number: 8\n",
            "88\n",
            "888\n",
            "the resultis 904\n"
          ]
        }
      ]
    },
    {
      "cell_type": "code",
      "source": [
        " x=int(input(\"enter your number: \"))    #Question 7\n",
        " if (x>=500):\n",
        "   print(\"There's a 50% discount,price after discount \",x*0.5)\n",
        "elif  x in range(200,500):\n",
        "   print(\"There's a 30% discount,price after discount\",x*0.7)\n",
        "else: \n",
        "  print(\"There's a 10% discount,price after discount\",x*0.9)\n",
        "\n",
        "\n",
        "\n",
        " \n"
      ],
      "metadata": {
        "colab": {
          "base_uri": "https://localhost:8080/"
        },
        "id": "yJV-roPDidPF",
        "outputId": "d9fc9b15-9aa5-4d74-e841-9c198e681f8f"
      },
      "execution_count": null,
      "outputs": [
        {
          "output_type": "stream",
          "name": "stdout",
          "text": [
            "enter your number: 525\n",
            "There's a 50% discount,price after discount  262.5\n"
          ]
        }
      ]
    }
  ]
}